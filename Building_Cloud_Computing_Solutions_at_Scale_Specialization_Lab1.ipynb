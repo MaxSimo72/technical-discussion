{
  "nbformat": 4,
  "nbformat_minor": 0,
  "metadata": {
    "colab": {
      "name": "Building Cloud Computing Solutions at Scale Specialization - Lab1.ipynb",
      "provenance": [],
      "authorship_tag": "ABX9TyPNZMcQXvf/Vb1lOoAsH+LU",
      "include_colab_link": true
    },
    "kernelspec": {
      "name": "python3",
      "display_name": "Python 3"
    },
    "language_info": {
      "name": "python"
    }
  },
  "cells": [
    {
      "cell_type": "markdown",
      "metadata": {
        "id": "view-in-github",
        "colab_type": "text"
      },
      "source": [
        "<a href=\"https://colab.research.google.com/github/MaxSimo72/technical-discussion/blob/main/Building_Cloud_Computing_Solutions_at_Scale_Specialization_Lab1.ipynb\" target=\"_parent\"><img src=\"https://colab.research.google.com/assets/colab-badge.svg\" alt=\"Open In Colab\"/></a>"
      ]
    },
    {
      "cell_type": "code",
      "execution_count": null,
      "metadata": {
        "colab": {
          "base_uri": "https://localhost:8080/"
        },
        "id": "AvytscD6ue-c",
        "outputId": "b87162f7-0e47-4f21-c8f5-443a9a49a8b0"
      },
      "outputs": [
        {
          "output_type": "stream",
          "name": "stdout",
          "text": [
            "hello world!\n"
          ]
        }
      ],
      "source": [
        "print ('hello world!')"
      ]
    },
    {
      "cell_type": "markdown",
      "source": [
        "## Markdown example"
      ],
      "metadata": {
        "id": "rBf5h7dKvm6y"
      }
    },
    {
      "cell_type": "markdown",
      "source": [
        "### Another Markdown Example"
      ],
      "metadata": {
        "id": "bOfbVdR4vt08"
      }
    },
    {
      "cell_type": "markdown",
      "source": [
        "### Last Markdown Example"
      ],
      "metadata": {
        "id": "tJSc8aGDv5Qm"
      }
    }
  ]
}